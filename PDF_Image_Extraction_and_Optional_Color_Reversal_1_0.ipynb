{
  "nbformat": 4,
  "nbformat_minor": 0,
  "metadata": {
    "colab": {
      "provenance": [],
      "mount_file_id": "1cBHlDzZhq1DmvvtrYWBqe5JCA6dcJ4VN",
      "authorship_tag": "ABX9TyNNrtLU+p2Q3r105EnQPZQ7"
    },
    "kernelspec": {
      "name": "python3",
      "display_name": "Python 3"
    },
    "language_info": {
      "name": "python"
    }
  },
  "cells": [
    {
      "cell_type": "markdown",
      "source": [
        "# **PDF Image Extraction and Optional Color Reversal**"
      ],
      "metadata": {
        "id": "ITPBKa6sYOVP"
      }
    },
    {
      "cell_type": "markdown",
      "source": [
        "Welcome to this Google Colab notebook designed to assist you in efficiently extracting images from PDF files and handling color reversal issues that might arise during the extraction process.\n",
        "\n",
        "In this notebook, we provide two Python scripts:\n",
        "\n",
        "PDF Image Extraction Script: This part leverages the PyMuPDF library to extract images from PDF pages. It employs a robust approach, including primary and fallback methods, to ensure a high success rate in image extraction.\n",
        "\n",
        "Color Reversal Script: The secondary part focuses on reversing the colors of images that might appear as negatives. This step is crucial for restoring the original visual appearance of extracted images.\n",
        "\n",
        "# Getting Started\n",
        "Mount your Google Drive to access input and output folders where the PDFs and extracted images will be stored.\n",
        "\n",
        "Upload your PDF files to the designated input folder (/content/drive/MyDrive/ImageScrapePDF/Import).\n",
        "\n",
        "Execute the PDF image extraction script to start the image extraction process. Extracted images will be saved in the output folder (/content/drive/MyDrive/ImageScrapePDF/Output).\n",
        "\n",
        "*   Mount your Google Drive to access input and output folders where the PDFs and extracted images will be stored.\n",
        "*   Upload your PDF files to the designated input folder (/content/drive/MyDrive/ImageScrapePDF/Import)\n",
        "*   Execute the PDF image extraction script to start the image extraction process. Extracted images will be saved in the output folder (/content/drive/MyDrive/ImageScrapePDF/Output).\n",
        "*   **(Optional)** Run the color reversal script to correct any negatively extracted images. The corrected images will be saved in separate 'flipped' folders within the output directory\n",
        "\n",
        "\n",
        "Please follow the step-by-step instructions provided in each code cell to perform image extraction and color reversal. Feel free to adapt the scripts to your specific needs and explore other features of the PyMuPDF and Pillow libraries for advanced image manipulation.\n",
        "\n",
        "Enjoy the streamlined process of working with images extracted from PDF documents!"
      ],
      "metadata": {
        "id": "R-ya131bYm2P"
      }
    },
    {
      "cell_type": "markdown",
      "source": [],
      "metadata": {
        "id": "0bzEdivuYgz0"
      }
    },
    {
      "cell_type": "markdown",
      "source": [
        "## Mount Google Drive\n",
        "Mount Drive and Make Folders"
      ],
      "metadata": {
        "id": "XgjztqxS1EFH"
      }
    },
    {
      "cell_type": "code",
      "source": [
        "from google.colab import drive\n",
        "drive.mount('/content/drive')\n",
        "\n",
        "!mkdir '/content/drive/MyDrive/ImageScrapePDF'  # Create the ImageScrapePDF folder in your Google Drive\n",
        "!mkdir '/content/drive/MyDrive/ImageScrapePDF/Import'  # Create the Import folder in your Google Drive\n",
        "!mkdir '/content/drive/MyDrive/ImageScrapePDF/Output'  # Create the Output folder in your Google Drive\n",
        "\n",
        "\n"
      ],
      "metadata": {
        "colab": {
          "base_uri": "https://localhost:8080/"
        },
        "id": "NzBUon0_c_6l",
        "outputId": "b5cd9c3c-6bcb-4797-fa9e-fc7cd561d83b"
      },
      "execution_count": 1,
      "outputs": [
        {
          "output_type": "stream",
          "name": "stdout",
          "text": [
            "Drive already mounted at /content/drive; to attempt to forcibly remount, call drive.mount(\"/content/drive\", force_remount=True).\n",
            "mkdir: cannot create directory ‘/content/drive/MyDrive/ImageScrapePDF’: File exists\n"
          ]
        }
      ]
    },
    {
      "cell_type": "markdown",
      "source": [
        "**Install Dependencies**"
      ],
      "metadata": {
        "id": "2WUcJ2e91nAH"
      }
    },
    {
      "cell_type": "code",
      "execution_count": 2,
      "metadata": {
        "colab": {
          "base_uri": "https://localhost:8080/"
        },
        "id": "I5hf3VVIU7zh",
        "outputId": "bd53258e-c5fd-4557-eaa8-770a8fd4745b"
      },
      "outputs": [
        {
          "output_type": "stream",
          "name": "stdout",
          "text": [
            "Collecting PyMuPDF\n",
            "  Downloading PyMuPDF-1.22.5-cp310-cp310-manylinux_2_17_x86_64.manylinux2014_x86_64.whl (14.1 MB)\n",
            "\u001b[2K     \u001b[90m━━━━━━━━━━━━━━━━━━━━━━━━━━━━━━━━━━━━━━━━\u001b[0m \u001b[32m14.1/14.1 MB\u001b[0m \u001b[31m53.4 MB/s\u001b[0m eta \u001b[36m0:00:00\u001b[0m\n",
            "\u001b[?25hRequirement already satisfied: pillow in /usr/local/lib/python3.10/dist-packages (9.4.0)\n",
            "Installing collected packages: PyMuPDF\n",
            "Successfully installed PyMuPDF-1.22.5\n"
          ]
        }
      ],
      "source": [
        "!pip install PyMuPDF pillow"
      ]
    },
    {
      "cell_type": "markdown",
      "source": [
        "# Run the code"
      ],
      "metadata": {
        "id": "DNxu7_VLym6t"
      }
    },
    {
      "cell_type": "markdown",
      "source": [
        "## Upload PDFs\n",
        "\n",
        "Select Multiple PDF's to upload or Manually place them within your import folder located (/content/drive/MyDrive/ImageScrapePDF/Import)"
      ],
      "metadata": {
        "id": "-4hSHehx_Fzq"
      }
    },
    {
      "cell_type": "code",
      "source": [
        "from google.colab import files\n",
        "import os\n",
        "\n",
        "# Create the target directory if it doesn't exist\n",
        "target_dir = '/content/drive/MyDrive/ImageScrapePDF/Import'\n",
        "os.makedirs(target_dir, exist_ok=True)\n",
        "\n",
        "# Upload PDF files\n",
        "uploaded = files.upload()\n",
        "\n",
        "# Move uploaded PDF files to the target directory\n",
        "for filename, data in uploaded.items():\n",
        "    if filename.endswith('.pdf'):\n",
        "        with open(os.path.join(target_dir, filename), 'wb') as f:\n",
        "            f.write(data)\n",
        "\n",
        "print(\"PDF files uploaded and stored in:\", target_dir)"
      ],
      "metadata": {
        "colab": {
          "base_uri": "https://localhost:8080/",
          "height": 90
        },
        "id": "T92uqy44-nF1",
        "outputId": "94185644-dabb-4971-9953-ef9ed2631013"
      },
      "execution_count": 3,
      "outputs": [
        {
          "output_type": "display_data",
          "data": {
            "text/plain": [
              "<IPython.core.display.HTML object>"
            ],
            "text/html": [
              "\n",
              "     <input type=\"file\" id=\"files-d3a1946e-c73e-4222-84f5-5ae360b03d07\" name=\"files[]\" multiple disabled\n",
              "        style=\"border:none\" />\n",
              "     <output id=\"result-d3a1946e-c73e-4222-84f5-5ae360b03d07\">\n",
              "      Upload widget is only available when the cell has been executed in the\n",
              "      current browser session. Please rerun this cell to enable.\n",
              "      </output>\n",
              "      <script>// Copyright 2017 Google LLC\n",
              "//\n",
              "// Licensed under the Apache License, Version 2.0 (the \"License\");\n",
              "// you may not use this file except in compliance with the License.\n",
              "// You may obtain a copy of the License at\n",
              "//\n",
              "//      http://www.apache.org/licenses/LICENSE-2.0\n",
              "//\n",
              "// Unless required by applicable law or agreed to in writing, software\n",
              "// distributed under the License is distributed on an \"AS IS\" BASIS,\n",
              "// WITHOUT WARRANTIES OR CONDITIONS OF ANY KIND, either express or implied.\n",
              "// See the License for the specific language governing permissions and\n",
              "// limitations under the License.\n",
              "\n",
              "/**\n",
              " * @fileoverview Helpers for google.colab Python module.\n",
              " */\n",
              "(function(scope) {\n",
              "function span(text, styleAttributes = {}) {\n",
              "  const element = document.createElement('span');\n",
              "  element.textContent = text;\n",
              "  for (const key of Object.keys(styleAttributes)) {\n",
              "    element.style[key] = styleAttributes[key];\n",
              "  }\n",
              "  return element;\n",
              "}\n",
              "\n",
              "// Max number of bytes which will be uploaded at a time.\n",
              "const MAX_PAYLOAD_SIZE = 100 * 1024;\n",
              "\n",
              "function _uploadFiles(inputId, outputId) {\n",
              "  const steps = uploadFilesStep(inputId, outputId);\n",
              "  const outputElement = document.getElementById(outputId);\n",
              "  // Cache steps on the outputElement to make it available for the next call\n",
              "  // to uploadFilesContinue from Python.\n",
              "  outputElement.steps = steps;\n",
              "\n",
              "  return _uploadFilesContinue(outputId);\n",
              "}\n",
              "\n",
              "// This is roughly an async generator (not supported in the browser yet),\n",
              "// where there are multiple asynchronous steps and the Python side is going\n",
              "// to poll for completion of each step.\n",
              "// This uses a Promise to block the python side on completion of each step,\n",
              "// then passes the result of the previous step as the input to the next step.\n",
              "function _uploadFilesContinue(outputId) {\n",
              "  const outputElement = document.getElementById(outputId);\n",
              "  const steps = outputElement.steps;\n",
              "\n",
              "  const next = steps.next(outputElement.lastPromiseValue);\n",
              "  return Promise.resolve(next.value.promise).then((value) => {\n",
              "    // Cache the last promise value to make it available to the next\n",
              "    // step of the generator.\n",
              "    outputElement.lastPromiseValue = value;\n",
              "    return next.value.response;\n",
              "  });\n",
              "}\n",
              "\n",
              "/**\n",
              " * Generator function which is called between each async step of the upload\n",
              " * process.\n",
              " * @param {string} inputId Element ID of the input file picker element.\n",
              " * @param {string} outputId Element ID of the output display.\n",
              " * @return {!Iterable<!Object>} Iterable of next steps.\n",
              " */\n",
              "function* uploadFilesStep(inputId, outputId) {\n",
              "  const inputElement = document.getElementById(inputId);\n",
              "  inputElement.disabled = false;\n",
              "\n",
              "  const outputElement = document.getElementById(outputId);\n",
              "  outputElement.innerHTML = '';\n",
              "\n",
              "  const pickedPromise = new Promise((resolve) => {\n",
              "    inputElement.addEventListener('change', (e) => {\n",
              "      resolve(e.target.files);\n",
              "    });\n",
              "  });\n",
              "\n",
              "  const cancel = document.createElement('button');\n",
              "  inputElement.parentElement.appendChild(cancel);\n",
              "  cancel.textContent = 'Cancel upload';\n",
              "  const cancelPromise = new Promise((resolve) => {\n",
              "    cancel.onclick = () => {\n",
              "      resolve(null);\n",
              "    };\n",
              "  });\n",
              "\n",
              "  // Wait for the user to pick the files.\n",
              "  const files = yield {\n",
              "    promise: Promise.race([pickedPromise, cancelPromise]),\n",
              "    response: {\n",
              "      action: 'starting',\n",
              "    }\n",
              "  };\n",
              "\n",
              "  cancel.remove();\n",
              "\n",
              "  // Disable the input element since further picks are not allowed.\n",
              "  inputElement.disabled = true;\n",
              "\n",
              "  if (!files) {\n",
              "    return {\n",
              "      response: {\n",
              "        action: 'complete',\n",
              "      }\n",
              "    };\n",
              "  }\n",
              "\n",
              "  for (const file of files) {\n",
              "    const li = document.createElement('li');\n",
              "    li.append(span(file.name, {fontWeight: 'bold'}));\n",
              "    li.append(span(\n",
              "        `(${file.type || 'n/a'}) - ${file.size} bytes, ` +\n",
              "        `last modified: ${\n",
              "            file.lastModifiedDate ? file.lastModifiedDate.toLocaleDateString() :\n",
              "                                    'n/a'} - `));\n",
              "    const percent = span('0% done');\n",
              "    li.appendChild(percent);\n",
              "\n",
              "    outputElement.appendChild(li);\n",
              "\n",
              "    const fileDataPromise = new Promise((resolve) => {\n",
              "      const reader = new FileReader();\n",
              "      reader.onload = (e) => {\n",
              "        resolve(e.target.result);\n",
              "      };\n",
              "      reader.readAsArrayBuffer(file);\n",
              "    });\n",
              "    // Wait for the data to be ready.\n",
              "    let fileData = yield {\n",
              "      promise: fileDataPromise,\n",
              "      response: {\n",
              "        action: 'continue',\n",
              "      }\n",
              "    };\n",
              "\n",
              "    // Use a chunked sending to avoid message size limits. See b/62115660.\n",
              "    let position = 0;\n",
              "    do {\n",
              "      const length = Math.min(fileData.byteLength - position, MAX_PAYLOAD_SIZE);\n",
              "      const chunk = new Uint8Array(fileData, position, length);\n",
              "      position += length;\n",
              "\n",
              "      const base64 = btoa(String.fromCharCode.apply(null, chunk));\n",
              "      yield {\n",
              "        response: {\n",
              "          action: 'append',\n",
              "          file: file.name,\n",
              "          data: base64,\n",
              "        },\n",
              "      };\n",
              "\n",
              "      let percentDone = fileData.byteLength === 0 ?\n",
              "          100 :\n",
              "          Math.round((position / fileData.byteLength) * 100);\n",
              "      percent.textContent = `${percentDone}% done`;\n",
              "\n",
              "    } while (position < fileData.byteLength);\n",
              "  }\n",
              "\n",
              "  // All done.\n",
              "  yield {\n",
              "    response: {\n",
              "      action: 'complete',\n",
              "    }\n",
              "  };\n",
              "}\n",
              "\n",
              "scope.google = scope.google || {};\n",
              "scope.google.colab = scope.google.colab || {};\n",
              "scope.google.colab._files = {\n",
              "  _uploadFiles,\n",
              "  _uploadFilesContinue,\n",
              "};\n",
              "})(self);\n",
              "</script> "
            ]
          },
          "metadata": {}
        },
        {
          "output_type": "stream",
          "name": "stdout",
          "text": [
            "Saving cf_E.pdf to cf_E.pdf\n",
            "PDF files uploaded and stored in: /content/drive/MyDrive/ImageScrapePDF/Import\n"
          ]
        }
      ]
    },
    {
      "cell_type": "markdown",
      "source": [
        "## Extract Images"
      ],
      "metadata": {
        "id": "CvDtj6HvAf-e"
      }
    },
    {
      "cell_type": "code",
      "source": [
        "import fitz  # PyMuPDF\n",
        "from io import BytesIO\n",
        "from tqdm import tqdm  # For progress bar\n",
        "\n",
        "def extract_images_from_pdf(pdf_path, output_folder):\n",
        "    try:\n",
        "        pdf_document = fitz.open(pdf_path)\n",
        "        pdf_name = os.path.splitext(os.path.basename(pdf_path))[0]\n",
        "\n",
        "        # Create a directory with the same name as the PDF file\n",
        "        pdf_directory = os.path.join(output_folder, pdf_name)\n",
        "        os.makedirs(pdf_directory, exist_ok=True)\n",
        "\n",
        "        # Initialize the overall progress bar\n",
        "        total_pages = pdf_document.page_count\n",
        "        overall_progress = tqdm(total=total_pages, desc=\"Extracting images\", unit=\"page\")\n",
        "\n",
        "        try:\n",
        "            for page_number in range(pdf_document.page_count):\n",
        "                page = pdf_document[page_number]\n",
        "                images = page.get_images(full=True)\n",
        "\n",
        "                for img_index, img in enumerate(images):\n",
        "                    xref = img[0]\n",
        "\n",
        "                    # Try primary method: pdf_document.extract_image\n",
        "                    try:\n",
        "                        base_image = pdf_document.extract_image(xref)\n",
        "                        image_data = base_image[\"image\"]\n",
        "                    except Exception as e:\n",
        "                        print(f\"Primary extraction method failed for page {page_number + 1}, image {img_index + 1}: {e}\")\n",
        "                        base_image = None\n",
        "\n",
        "                    # If primary method fails, try fallback method: page.get_pixmap\n",
        "                    if base_image is None:\n",
        "                        try:\n",
        "                            base_image = page.get_pixmap()\n",
        "                            image_data = base_image.samples\n",
        "                        except Exception as e:\n",
        "                            print(f\"Fallback extraction method failed for page {page_number + 1}, image {img_index + 1}: {e}\")\n",
        "                            continue\n",
        "\n",
        "                    image_filename = f\"{pdf_directory}/{pdf_name}_page{page_number + 1}_img{img_index + 1}.png\"\n",
        "\n",
        "                    # Save the image using Pixmap\n",
        "                    try:\n",
        "                        with open(image_filename, \"wb\") as img_file:\n",
        "                            img_file.write(image_data)\n",
        "                    except Exception as e:\n",
        "                        print(f\"Failed to save image {image_filename}: {e}\")\n",
        "                        continue\n",
        "\n",
        "                    # Update the overall progress bar\n",
        "                    overall_progress.update(1)\n",
        "\n",
        "        except KeyboardInterrupt:\n",
        "            print(\"\\nExtraction interrupted.\")\n",
        "        finally:\n",
        "            # Close the overall progress bar\n",
        "            overall_progress.close()\n",
        "\n",
        "    except Exception as e:\n",
        "        print(f\"PDF processing error for {pdf_path}: {e}\")\n",
        "    finally:\n",
        "        pdf_document.close()\n",
        "\n",
        "if __name__ == \"__main__\":\n",
        "    input_folder = \"/content/drive/My Drive/ImageScrapePDF/Import\"\n",
        "    output_folder = \"/content/drive/My Drive/ImageScrapePDF/Output\"\n",
        "\n",
        "    # List all PDF files in the input folder\n",
        "    pdf_files = [f for f in os.listdir(input_folder) if f.lower().endswith('.pdf')]\n",
        "\n",
        "    for pdf_file in pdf_files:\n",
        "        pdf_file_path = os.path.join(input_folder, pdf_file)\n",
        "        print(f\"Processing: {pdf_file}\")\n",
        "        extract_images_from_pdf(pdf_file_path, output_folder)\n",
        "\n",
        "    print(\"Image extraction finished.\")\n"
      ],
      "metadata": {
        "colab": {
          "base_uri": "https://localhost:8080/"
        },
        "id": "BoCuhFWmymXr",
        "outputId": "dabde573-e798-4e30-9e4a-310d3a36d589"
      },
      "execution_count": 4,
      "outputs": [
        {
          "output_type": "stream",
          "name": "stdout",
          "text": [
            "Processing: cf_E.pdf\n"
          ]
        },
        {
          "output_type": "stream",
          "name": "stderr",
          "text": [
            "Extracting images:  23%|██▎       | 45/194 [00:00<00:02, 55.19page/s]"
          ]
        },
        {
          "output_type": "stream",
          "name": "stdout",
          "text": [
            "Image extraction finished.\n"
          ]
        },
        {
          "output_type": "stream",
          "name": "stderr",
          "text": [
            "\n"
          ]
        }
      ]
    },
    {
      "cell_type": "markdown",
      "source": [
        "# Color Reversal (Optional to fix Negative Images)\n",
        "\n",
        "Sometimes it will extract images and they will be negative images. Use this to run a batch on your output folder that will reverse the colors\n"
      ],
      "metadata": {
        "id": "YiUgibEim3rb"
      }
    },
    {
      "cell_type": "code",
      "source": [
        "from PIL import Image\n",
        "\n",
        "input_folder = \"/content/drive/My Drive/ImageScrapePDF/Output\"\n",
        "\n",
        "try:\n",
        "    # List all immediate subfolders in the input folder\n",
        "    subfolders = [f for f in os.listdir(input_folder) if os.path.isdir(os.path.join(input_folder, f))]\n",
        "\n",
        "    # Process images in each subfolder\n",
        "    for subfolder in subfolders:\n",
        "        try:\n",
        "            input_subfolder = os.path.join(input_folder, subfolder)\n",
        "            output_subfolder = os.path.join(input_subfolder, \"flipped\")\n",
        "\n",
        "            # Create the flipped output folder inside the subfolder\n",
        "            os.makedirs(output_subfolder, exist_ok=True)\n",
        "\n",
        "            # List all image files in the input subfolder\n",
        "            image_files = [f for f in os.listdir(input_subfolder) if f.lower().endswith(('.png', '.jpg', '.jpeg', '.gif', '.bmp'))]\n",
        "\n",
        "            # Process each image\n",
        "            for image_file in image_files:\n",
        "                try:\n",
        "                    input_path = os.path.join(input_subfolder, image_file)\n",
        "                    output_path = os.path.join(output_subfolder, image_file)\n",
        "\n",
        "                    # Open the image\n",
        "                    try:\n",
        "                        image = Image.open(input_path)\n",
        "                    except Exception as e:\n",
        "                        print(f\"Error opening image {input_path}: {e}\")\n",
        "                        continue\n",
        "\n",
        "                    # Convert to RGB color mode if CMYK\n",
        "                    if image.mode == 'CMYK':\n",
        "                        image = image.convert('RGB')\n",
        "\n",
        "                    # Invert the colors (reverse the negative)\n",
        "                    inverted_image = Image.eval(image, lambda pixel: 255 - pixel)\n",
        "\n",
        "                    # Save the inverted image to the flipped output folder\n",
        "                    try:\n",
        "                        inverted_image.save(output_path)\n",
        "                    except Exception as e:\n",
        "                        print(f\"Error saving image {output_path}: {e}\")\n",
        "                        continue\n",
        "                except Exception as e:\n",
        "                    print(f\"Error processing image {image_file}: {e}\")\n",
        "        except Exception as e:\n",
        "            print(f\"Error processing subfolder {subfolder}: {e}\")\n",
        "except Exception as e:\n",
        "    print(f\"Error processing input folder: {e}\")\n",
        "\n",
        "print(\"Images flipped and saved in the 'flipped' folders.\")\n"
      ],
      "metadata": {
        "colab": {
          "base_uri": "https://localhost:8080/"
        },
        "id": "0gmap1nVoXUS",
        "outputId": "89e37705-2e9d-4505-d374-8e75e0f4c601"
      },
      "execution_count": 5,
      "outputs": [
        {
          "output_type": "stream",
          "name": "stdout",
          "text": [
            "Images flipped and saved in the 'flipped' folders.\n"
          ]
        }
      ]
    },
    {
      "cell_type": "markdown",
      "source": [
        "**Increase Saturation of Flipped Images**\n",
        "\n",
        "Sometimes the images are undersaturated so this can easily increase the saturation."
      ],
      "metadata": {
        "id": "Cc3NknTEIs2i"
      }
    },
    {
      "cell_type": "code",
      "source": [
        "!pip install opencv-python"
      ],
      "metadata": {
        "colab": {
          "base_uri": "https://localhost:8080/"
        },
        "id": "CyQpIb4gEM9a",
        "outputId": "d279a632-11ea-4b68-b5a1-611dcad0adf3"
      },
      "execution_count": 6,
      "outputs": [
        {
          "output_type": "stream",
          "name": "stdout",
          "text": [
            "Requirement already satisfied: opencv-python in /usr/local/lib/python3.10/dist-packages (4.8.0.76)\n",
            "Requirement already satisfied: numpy>=1.21.2 in /usr/local/lib/python3.10/dist-packages (from opencv-python) (1.23.5)\n"
          ]
        }
      ]
    },
    {
      "cell_type": "code",
      "source": [
        "import cv2\n",
        "import numpy as np\n",
        "\n",
        "def increase_saturation(input_folder, saturation_percent):\n",
        "    for root, _, files in os.walk(input_folder):\n",
        "        if \"flipped\" in root:\n",
        "            output_subfolder = os.path.join(root, \"saturated\")\n",
        "            os.makedirs(output_subfolder, exist_ok=True)\n",
        "\n",
        "            for filename in files:\n",
        "                if filename.endswith(\".jpg\") or filename.endswith(\".png\"):\n",
        "                    input_path = os.path.join(root, filename)\n",
        "\n",
        "                    img = cv2.imread(input_path)\n",
        "                    img_hsv = cv2.cvtColor(img, cv2.COLOR_BGR2HSV)\n",
        "\n",
        "                    # Calculate saturation factor based on percentage increase\n",
        "                    saturation_factor = 1 + saturation_percent / 100.0\n",
        "\n",
        "                    # Increase saturation\n",
        "                    img_hsv[:, :, 1] = img_hsv[:, :, 1] * saturation_factor\n",
        "\n",
        "                    # Ensure saturation values are within the valid range [0, 255]\n",
        "                    img_hsv[:, :, 1] = np.clip(img_hsv[:, :, 1], 0, 255)\n",
        "\n",
        "                    img_output = cv2.cvtColor(img_hsv, cv2.COLOR_HSV2BGR)\n",
        "\n",
        "                    # Append saturation value to the end of the file name\n",
        "                    saturation_str = f\"-Sat{saturation_percent:02}\"\n",
        "                    output_filename = os.path.splitext(filename)[0] + saturation_str + os.path.splitext(filename)[1]\n",
        "                    output_path = os.path.join(output_subfolder, output_filename)\n",
        "\n",
        "                    cv2.imwrite(output_path, img_output)\n",
        "\n",
        "def main():\n",
        "    base_folder = \"/content/drive/MyDrive/ImageScrapePDF/Output\"\n",
        "    saturation_percent = int(input(\"Enter saturation adjustment (0-100): \"))\n",
        "\n",
        "    increase_saturation(base_folder, saturation_percent)\n",
        "\n",
        "if __name__ == \"__main__\":\n",
        "    main()"
      ],
      "metadata": {
        "colab": {
          "base_uri": "https://localhost:8080/"
        },
        "id": "Yuvmcc1jEcNQ",
        "outputId": "1adf6fda-ed11-48f2-c118-568f40212b4b"
      },
      "execution_count": 8,
      "outputs": [
        {
          "name": "stdout",
          "output_type": "stream",
          "text": [
            "Enter saturation adjustment (0-100): 35\n"
          ]
        }
      ]
    }
  ]
}